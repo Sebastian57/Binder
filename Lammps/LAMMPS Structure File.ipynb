{
 "cells": [
  {
   "cell_type": "code",
   "execution_count": 4,
   "id": "f53082b2",
   "metadata": {},
   "outputs": [
    {
     "data": {
      "image/png": "[encoded data removed]",
      "text/plain": [
       "<Figure size 640x480 with 1 Axes>"
      ]
     },
     "metadata": {},
     "output_type": "display_data"
    }
   ],
   "source": [
    "import matplotlib.pyplot as plt\n",
    "\n",
    "import numpy as np\n",
    "\n",
    "data = np.loadtxt('Al03.eam.alloy',skiprows=8)\n",
    "r = np.linspace(0,8000,29998)\n",
    "\n",
    "plt.scatter(r,data)\n",
    "plt.show()"
   ]
  },
  {
   "cell_type": "code",
   "execution_count": 48,
   "id": "adc8cf81",
   "metadata": {},
   "outputs": [],
   "source": [
    "from lammps import lammps\n",
    "lmp = lammps(cmdargs=[\"-sc\", \"log\"])\n",
    "\n",
    "cmd_0 = f'''\n",
    "dimension 3\n",
    "units metal\n",
    "atom_style atomic\n",
    "boundary p p p\n",
    "lattice fcc 4.046\n",
    "region box block 0 8.092 0 8.092 0 8.092\n",
    "create_box 1 box\n",
    "create_atoms 1 box\n",
    "mass 1 26.9815\n",
    "write_data crystalline_initial.inp\n",
    "'''\n",
    "\n",
    "lmp.commands_string(cmd_0)\n",
    "lmp.close()"
   ]
  },
  {
   "cell_type": "code",
   "execution_count": 24,
   "id": "b3042786",
   "metadata": {},
   "outputs": [],
   "source": [
    "import numpy as np"
   ]
  },
  {
   "cell_type": "markdown",
   "id": "30cea316",
   "metadata": {},
   "source": [
    "### Fcc"
   ]
  },
  {
   "cell_type": "code",
   "execution_count": 25,
   "id": "529f34b6",
   "metadata": {},
   "outputs": [],
   "source": [
    "lattice_parameter_fcc = 4.046\n",
    "mass_fcc_1 = 26.9815"
   ]
  },
  {
   "cell_type": "code",
   "execution_count": 26,
   "id": "2f2b7cd0",
   "metadata": {},
   "outputs": [],
   "source": [
    "basis_fcc = np.array([[1.0, 0.0, 0.0],[0.0,1.0,0.0],[0.0,0.0,1.0]])*lattice_parameter_fcc"
   ]
  },
  {
   "cell_type": "code",
   "execution_count": 27,
   "id": "cc79c19f",
   "metadata": {},
   "outputs": [
    {
     "name": "stdout",
     "output_type": "stream",
     "text": [
      "[[4.046 0.    0.   ]\n",
      " [0.    4.046 0.   ]\n",
      " [0.    0.    4.046]]\n"
     ]
    }
   ],
   "source": [
    "print(basis_fcc)"
   ]
  },
  {
   "cell_type": "code",
   "execution_count": 28,
   "id": "b58559d6",
   "metadata": {},
   "outputs": [],
   "source": [
    "basis_atoms_fcc = np.array([[0.0,0.0,0.0],[0.5,0.5,0.0],[0.5,0.0,0.5],[0.0,0.5,0.5]])*lattice_parameter_fcc"
   ]
  },
  {
   "cell_type": "code",
   "execution_count": 29,
   "id": "f825b512",
   "metadata": {},
   "outputs": [
    {
     "name": "stdout",
     "output_type": "stream",
     "text": [
      "[[0.    0.    0.   ]\n",
      " [2.023 2.023 0.   ]\n",
      " [2.023 0.    2.023]\n",
      " [0.    2.023 2.023]]\n"
     ]
    }
   ],
   "source": [
    "print(basis_atoms_fcc)"
   ]
  },
  {
   "cell_type": "code",
   "execution_count": 30,
   "id": "e53f4916",
   "metadata": {},
   "outputs": [],
   "source": [
    "system_size = 8"
   ]
  },
  {
   "cell_type": "code",
   "execution_count": 31,
   "id": "3446273d",
   "metadata": {},
   "outputs": [],
   "source": [
    "positions_fcc = []\n",
    "\n",
    "for i in range(system_size):\n",
    "    for j in range(system_size):\n",
    "        for k in range(system_size):\n",
    "            base_position_fcc = np.array([i,j,k])\n",
    "            cart_position_fcc = np.inner(basis_fcc.T, base_position_fcc)\n",
    "            for atom in basis_atoms_fcc:    \n",
    "                positions_fcc.append(cart_position_fcc + atom)"
   ]
  },
  {
   "cell_type": "code",
   "execution_count": 32,
   "id": "384db188",
   "metadata": {},
   "outputs": [],
   "source": [
    "with open('structures/crystalline_fcc.inp', 'w') as fdata:\n",
    "        fdata.write('Start File for LAMMPS\\n')\n",
    "        fdata.write('{} atoms\\n'.format(len(positions_fcc)))\n",
    "        #fdata.write('{} atoms\\n'.format(natoms))\n",
    "        fdata.write('{} atom types\\n'.format(1))\n",
    "        fdata.write('\\n')\n",
    "        fdata.write('{} {} xlo xhi\\n'.format(0.0, system_size*lattice_parameter_fcc))\n",
    "        fdata.write('{} {} ylo yhi\\n'.format(0.0, system_size*lattice_parameter_fcc))\n",
    "        fdata.write('{} {} zlo zhi\\n'.format(0.0, system_size*lattice_parameter_fcc))\n",
    "        fdata.write('\\n')\n",
    "        fdata.write('Masses\\n')\n",
    "        fdata.write('\\n')\n",
    "        fdata.write('{} {} \\n'.format(1,mass_fcc_1))\n",
    "        fdata.write('\\n')\n",
    "        fdata.write('Atoms\\n\\n')\n",
    "        for i,pos in enumerate(positions_fcc):\n",
    "            fdata.write('{} 1 {} {} {}\\n'.format(i+1,*pos))"
   ]
  },
  {
   "cell_type": "markdown",
   "id": "91031a6c",
   "metadata": {},
   "source": [
    "### BCC"
   ]
  },
  {
   "cell_type": "code",
   "execution_count": 33,
   "id": "defe5614",
   "metadata": {},
   "outputs": [],
   "source": [
    "lattice_parameter_bcc = 3.31\n",
    "mass_bcc_1 = 47.68"
   ]
  },
  {
   "cell_type": "code",
   "execution_count": 34,
   "id": "d5b83eae",
   "metadata": {},
   "outputs": [],
   "source": [
    "system_size = 8"
   ]
  },
  {
   "cell_type": "code",
   "execution_count": 35,
   "id": "757a1a9a",
   "metadata": {},
   "outputs": [],
   "source": [
    "basis_bcc = np.array([[1.0, 0.0, 0.0],[0.0,1.0,0.0],[0.0,0.0,1.0]])*lattice_parameter_bcc"
   ]
  },
  {
   "cell_type": "code",
   "execution_count": 36,
   "id": "d5bc5a38",
   "metadata": {},
   "outputs": [
    {
     "name": "stdout",
     "output_type": "stream",
     "text": [
      "[[3.31 0.   0.  ]\n",
      " [0.   3.31 0.  ]\n",
      " [0.   0.   3.31]]\n"
     ]
    }
   ],
   "source": [
    "print(basis_bcc)"
   ]
  },
  {
   "cell_type": "code",
   "execution_count": 37,
   "id": "64d801c9",
   "metadata": {},
   "outputs": [],
   "source": [
    "basis_atoms_bcc = np.array([[0,0,0],[0.5,0.5,0.5]])*lattice_parameter_bcc"
   ]
  },
  {
   "cell_type": "code",
   "execution_count": 38,
   "id": "4fe96d28",
   "metadata": {},
   "outputs": [
    {
     "name": "stdout",
     "output_type": "stream",
     "text": [
      "[[0.    0.    0.   ]\n",
      " [1.655 1.655 1.655]]\n"
     ]
    }
   ],
   "source": [
    "print(basis_atoms_bcc)"
   ]
  },
  {
   "cell_type": "code",
   "execution_count": 39,
   "id": "3ca28452",
   "metadata": {},
   "outputs": [],
   "source": [
    "positions_bcc = []\n",
    "\n",
    "for i in range(system_size):\n",
    "    for j in range(system_size):\n",
    "        for k in range(system_size):\n",
    "            base_position_bcc = np.array([i,j,k])\n",
    "            cart_position_bcc = np.inner(basis_bcc.T, base_position_bcc)\n",
    "            for atom in basis_atoms_bcc:    \n",
    "                positions_bcc.append(cart_position_bcc + atom)"
   ]
  },
  {
   "cell_type": "code",
   "execution_count": 40,
   "id": "01a8bb66",
   "metadata": {},
   "outputs": [],
   "source": [
    "with open('structures/crystalline_bcc.inp', 'w') as fdata:\n",
    "        fdata.write('Start File for LAMMPS\\n')\n",
    "        fdata.write('{} atoms\\n'.format(len(positions_bcc)))\n",
    "        #fdata.write('{} atoms\\n'.format(natoms))\n",
    "        fdata.write('{} atom types\\n'.format(1))\n",
    "        fdata.write('\\n')\n",
    "        fdata.write('{} {} xlo xhi\\n'.format(0.0, system_size*lattice_parameter_bcc))\n",
    "        fdata.write('{} {} ylo yhi\\n'.format(0.0, system_size*lattice_parameter_bcc))\n",
    "        fdata.write('{} {} zlo zhi\\n'.format(0.0, system_size*lattice_parameter_bcc))\n",
    "        fdata.write('\\n')\n",
    "        fdata.write('Masses\\n')\n",
    "        fdata.write('\\n')\n",
    "        fdata.write('{} {} \\n'.format(1,mass_bcc_1))\n",
    "        fdata.write('\\n')\n",
    "        fdata.write('Atoms\\n\\n')\n",
    "        for i,pos in enumerate(positions_bcc):\n",
    "            fdata.write('{} 1 {} {} {}\\n'.format(i+1,*pos))"
   ]
  },
  {
   "cell_type": "markdown",
   "id": "e02805e3",
   "metadata": {},
   "source": [
    "### HCP"
   ]
  },
  {
   "cell_type": "markdown",
   "id": "eadfd0b5",
   "metadata": {},
   "source": [
    "I now want to create a hcp crystal structure. My idea is set two points in two different planes. To do this I have two arrays: base_position_hcp_1 = np.array([[0,0,0],[1.475,2.55477,0]]) and base_position_hcp_2 = np.array([[-1.475,0.8516,lattice_parameter_hcp_c/2],[0,-1.70318,lattice_parameter_hcp_c/2]]). These planes should be stacked on top of one another, separated by a distance of lattice_parameter_hcp_c/2. Meaning that two same planes would have the double distance. In the planes, the points are separated by the lattice_parameter_hcp_ab. Once along the x direction and also rotated by 120 degrees. How can I create ten planes of each type. Perhaps by creating an array for each plane type first and then appending, since the position in the array should not matter."
   ]
  },
  {
   "cell_type": "markdown",
   "id": "d741dc03",
   "metadata": {},
   "source": [
    "https://www.physics-in-a-nutshell.com/article/11/close-packed-structures-fcc-and-hcp"
   ]
  },
  {
   "cell_type": "code",
   "execution_count": 41,
   "id": "f026bfa2",
   "metadata": {},
   "outputs": [],
   "source": [
    "lattice_parameter_hcp_ab = 2.95\n",
    "lattice_parameter_hcp_c = 4.686\n",
    "mass_hcp_1 = 47.867\n",
    "system_size = 6"
   ]
  },
  {
   "cell_type": "code",
   "execution_count": 42,
   "id": "b60277d1",
   "metadata": {},
   "outputs": [],
   "source": [
    "basis_hcp = np.array([[lattice_parameter_hcp_ab,0,0],[0,0.8602*lattice_parameter_hcp_ab,0],[0,0,lattice_parameter_hcp_c]])"
   ]
  },
  {
   "cell_type": "code",
   "execution_count": 43,
   "id": "049d3c90",
   "metadata": {},
   "outputs": [],
   "source": [
    "basis_atoms_hcp = np.array([[0,0,0],[2/3*lattice_parameter_hcp_ab,1/3*lattice_parameter_hcp_ab,1/2*lattice_parameter_hcp_c]])"
   ]
  },
  {
   "cell_type": "code",
   "execution_count": 44,
   "id": "4642a092",
   "metadata": {},
   "outputs": [],
   "source": [
    "positions_hcp = []\n",
    "\n",
    "for i in range(system_size):\n",
    "    for j in range(system_size):\n",
    "        for k in range(system_size):\n",
    "            base_position_hcp = np.array([i,j,k])\n",
    "            cart_position_hcp = np.inner(basis_hcp.T, base_position_hcp)\n",
    "            for atom in basis_atoms_hcp:    \n",
    "                positions_hcp.append(cart_position_hcp + atom)"
   ]
  },
  {
   "cell_type": "code",
   "execution_count": 45,
   "id": "752492a2",
   "metadata": {},
   "outputs": [],
   "source": [
    "with open('structures/crystalline_hcp.inp', 'w') as fdata:\n",
    "        fdata.write('Start File for LAMMPS\\n')\n",
    "        fdata.write('{} atoms\\n'.format(len(positions_hcp)))\n",
    "        #fdata.write('{} atoms\\n'.format(natoms))\n",
    "        fdata.write('{} atom types\\n'.format(1))\n",
    "        fdata.write('\\n')\n",
    "        fdata.write('{} {} xlo xhi\\n'.format(0.0, system_size*lattice_parameter_hcp_ab))\n",
    "        fdata.write('{} {} ylo yhi\\n'.format(0.0, system_size*lattice_parameter_hcp_ab))\n",
    "        fdata.write('{} {} zlo zhi\\n'.format(0.0, system_size*lattice_parameter_hcp_c))\n",
    "        fdata.write('\\n')\n",
    "        fdata.write('Masses\\n')\n",
    "        fdata.write('\\n')\n",
    "        fdata.write('{} {} \\n'.format(1,mass_hcp_1))\n",
    "        fdata.write('\\n')\n",
    "        fdata.write('Atoms\\n\\n')\n",
    "        for i,pos in enumerate(positions_hcp):\n",
    "            fdata.write('{} 1 {} {} {}\\n'.format(i+1,*pos))"
   ]
  },
  {
   "cell_type": "code",
   "execution_count": 46,
   "id": "cae5c376",
   "metadata": {},
   "outputs": [],
   "source": [
    "aLat = 3.31\n",
    "with open(f'structures/hcp_Ti.inp', 'w+') as fw:\n",
    "    fw.write(f\"\"\"Start File for LAMMPS\n",
    "2 atoms\n",
    "1 atom types\n",
    "\n",
    "0.0 {1.00*aLat} xlo xhi\n",
    "0.0 {0.866025*aLat} ylo yhi\n",
    "0.0 {1.588*aLat} zlo zhi\n",
    "{0.5*aLat} 0E-15 0E-15 xy xz yz\n",
    "\n",
    "Masses\n",
    "\n",
    "1 47.867000\n",
    "\n",
    "Atoms\n",
    "\n",
    "1 1 0.000000000000000 0.000000000000000 0.000000000000000\n",
    "2 1 0.000000000000000 {0.577350269189626*aLat} {0.794000000000000*aLat}      \n",
    "    \"\"\")"
   ]
  },
  {
   "cell_type": "markdown",
   "id": "3b9c1900",
   "metadata": {},
   "source": [
    "### Polymers"
   ]
  },
  {
   "cell_type": "code",
   "execution_count": null,
   "id": "1b01a05c",
   "metadata": {},
   "outputs": [],
   "source": []
  }
 ],
 "metadata": {
  "kernelspec": {
   "display_name": "Python 3 (ipykernel)",
   "language": "python",
   "name": "python3"
  },
  "language_info": {
   "codemirror_mode": {
    "name": "ipython",
    "version": 3
   },
   "file_extension": ".py",
   "mimetype": "text/x-python",
   "name": "python",
   "nbconvert_exporter": "python",
   "pygments_lexer": "ipython3",
   "version": "3.10.11"
  }
 },
 "nbformat": 4,
 "nbformat_minor": 5
}
