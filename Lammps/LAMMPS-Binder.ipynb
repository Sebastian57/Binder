{
 "cells": [
  {
   "cell_type": "markdown",
   "id": "5f10a4b5",
   "metadata": {},
   "source": [
    "# LAMMPS "
   ]
  },
  {
   "cell_type": "code",
   "execution_count": 1,
   "id": "8038d28f",
   "metadata": {},
   "outputs": [],
   "source": [
    "from lammps import lammps\n",
    "from comafunctions_Lammps import animate, preview_structure\n",
    "import numpy as np\n",
    "import time\n",
    "import os "
   ]
  },
  {
   "cell_type": "code",
   "execution_count": 2,
   "id": "62f4f37c",
   "metadata": {},
   "outputs": [],
   "source": [
    "lmp = lammps(cmdargs=['-sc', 'log']) "
   ]
  },
  {
   "cell_type": "markdown",
   "id": "7c27b6fc",
   "metadata": {},
   "source": [
    "## Initial Structure"
   ]
  },
  {
   "cell_type": "code",
   "execution_count": 3,
   "id": "bf1e5d88",
   "metadata": {},
   "outputs": [
    {
     "name": "stdout",
     "output_type": "stream",
     "text": [
      "Number of structured atoms: 972\n"
     ]
    },
    {
     "data": {
      "application/vnd.jupyter.widget-view+json": {
       "model_id": "8497aa98378e4dd28e83101fadfaa37f",
       "version_major": 2,
       "version_minor": 0
      },
      "text/plain": [
       "JupyterViewportWidget(camera_params={'fov': 22.62764276573904, 'perspective': False, 'matrix': [[0.70710678118…"
      ]
     },
     "metadata": {},
     "output_type": "display_data"
    }
   ],
   "source": [
    "preview_structure('structures/Ti_Initial.txt')"
   ]
  },
  {
   "cell_type": "markdown",
   "id": "9e84317c",
   "metadata": {},
   "source": [
    "## LAMMPS Input Script\n",
    "### https://docs.lammps.org/Commands_all.html"
   ]
  },
  {
   "cell_type": "code",
   "execution_count": 4,
   "id": "78ce5a00",
   "metadata": {},
   "outputs": [],
   "source": [
    "t_start = 1 #Kelvin\n",
    "t_end = 2000 #Kelvin\n",
    "timestep = 0.001\n",
    "thermo = 200\n",
    "steps = 40000\n",
    "element = 'Ti'"
   ]
  },
  {
   "cell_type": "markdown",
   "id": "da8ea6f5",
   "metadata": {
    "heading_collapsed": true
   },
   "source": [
    "### Deformation Al"
   ]
  },
  {
   "cell_type": "code",
   "execution_count": null,
   "id": "db5580e2",
   "metadata": {
    "hidden": true,
    "slideshow": {
     "slide_type": "-"
    }
   },
   "outputs": [],
   "source": [
    "cmd = f'''\n",
    "units metal\n",
    "dimension 3\n",
    "boundary p p p\n",
    "atom_style atomic\n",
    "read_data structures/crystalline_fcc.inp\n",
    "pair_style eam/alloy #adp\n",
    "pair_coeff * * potentials/Al03.eam.alloy Al#Si_Au_Al.adp.txt Al Al Al\n",
    "\n",
    "compute csym all centro/atom fcc\n",
    "compute peratom all pe/atom\n",
    "\n",
    "reset_timestep 0\n",
    "timestep 0.001\n",
    "velocity all create 300 12345 mom yes rot no\n",
    "fix 1 all npt temp 300 300 1 iso 0 0 1 drag 1\n",
    "\n",
    "thermo 1000\n",
    "\n",
    "run 1000\n",
    "\n",
    "unfix 1\n",
    "\n",
    "reset_timestep 0\n",
    "\n",
    "fix      1 all npt temp 300 300 1 y 0 0 1 z 0 0 1 drag 1\n",
    "variable srate equal 1.0e10\n",
    "variable srate1 equal \"v_srate / 1.0e12\"\n",
    "fix      2 all deform 1 x erate 0.001 units box remap x #$[srate1]\n",
    "\n",
    "dump     1 all cfg 20000 dump.tensile_*.cfg mass type xs ys zs c_csym c_peratom fx fy fz\n",
    "#dump id all atom 50 dump2.lammpsstrj\n",
    "\n",
    "thermo 1000\n",
    "\n",
    "run 20000\n",
    "\n",
    "'''"
   ]
  },
  {
   "cell_type": "markdown",
   "id": "150c506c",
   "metadata": {
    "heading_collapsed": true
   },
   "source": [
    "### Periodic Boundary Conditions Al Heating"
   ]
  },
  {
   "cell_type": "code",
   "execution_count": 5,
   "id": "569da12d",
   "metadata": {
    "hidden": true
   },
   "outputs": [],
   "source": [
    "cmd = f'''\n",
    "units metal\n",
    "dimension 3\n",
    "boundary p p p\n",
    "atom_style atomic\n",
    "read_data structures/crystalline_fcc.inp\n",
    "pair_style eam/alloy #adp\n",
    "pair_coeff * * potentials/Al03.eam.alloy Al#Si_Au_Al.adp.txt Al Al Al\n",
    "\n",
    "timestep {timestep}\n",
    "\n",
    "thermo {thermo}\n",
    "\n",
    "thermo_style custom step temp vol press ke pe density \n",
    "\n",
    "variable s equal step\n",
    "variable t equal temp\n",
    "variable v equal vol\n",
    "variable p equal press\n",
    "variable k equal ke\n",
    "variable P equal pe\n",
    "variable d equal density\n",
    "variable e equal etotal\n",
    "\n",
    "\n",
    "fix thermo all print 200 '$s $t $v $p $k $P $d $e' file output/thermo_output_{element}.dat screen no\n",
    "\n",
    "velocity all create 1 589500 mom yes rot yes dist gaussian\n",
    "\n",
    "dump 1 all custom 200 output/dump_{element}.out id type xs ys zs\n",
    "\n",
    "fix 2 all nvt temp {t_start} {t_end} 0.1\n",
    "\n",
    "run {steps}\n",
    "\n",
    "'''"
   ]
  },
  {
   "cell_type": "markdown",
   "id": "66fa07ab",
   "metadata": {
    "heading_collapsed": true
   },
   "source": [
    "### Non Periodic Boundary Conditions Al Heating"
   ]
  },
  {
   "cell_type": "code",
   "execution_count": 6,
   "id": "8fc8082b",
   "metadata": {
    "hidden": true
   },
   "outputs": [],
   "source": [
    "cmd = f'''\n",
    "\n",
    "dimension 3\n",
    "units metal\n",
    "atom_style atomic\n",
    "boundary p p p\n",
    "\n",
    "read_data structures/crystalline_fcc.inp\n",
    "\n",
    "pair_style eam/alloy #adp\n",
    "pair_coeff * * potentials/Al03.eam.alloy Al#Si_Au_Al.adp.txt Al Al Al\n",
    "\n",
    "neighbor 3.0 bin\n",
    "\n",
    "write_data original\n",
    "\n",
    "change_box all x delta 0 3 \n",
    "change_box all y delta 0 3 \n",
    "change_box all z delta 0 3 boundary s s s\n",
    "\n",
    "timestep {timestep}\n",
    "\n",
    "thermo {thermo}\n",
    "\n",
    "thermo_style custom step temp vol press ke pe density \n",
    "\n",
    "variable s equal step\n",
    "variable t equal temp\n",
    "variable v equal vol\n",
    "variable p equal press\n",
    "variable k equal ke\n",
    "variable P equal pe\n",
    "variable d equal density\n",
    "variable e equal etotal\n",
    "\n",
    "\n",
    "fix thermo all print 200 '$s $t $v $p $k $P $d $e' file output/thermo_output_{element}.dat screen no\n",
    "\n",
    "velocity all create 1 589500 mom yes rot yes dist gaussian\n",
    "\n",
    "dump 1 all custom 200 output/dump_{element}.out id type xs ys zs\n",
    "\n",
    "fix 2 all nvt temp {t_start} {t_end} 0.1\n",
    "\n",
    "run {steps}\n",
    "\n",
    "#unfix 2\n",
    "\n",
    "#fix 2 all nvt temp {t_end} {t_start} 0.1\n",
    "\n",
    "#run 15000\n",
    "       \n",
    "'''"
   ]
  },
  {
   "cell_type": "markdown",
   "id": "04d1043f",
   "metadata": {},
   "source": [
    "### Solid Phase Transfromation Ti Heating"
   ]
  },
  {
   "cell_type": "code",
   "execution_count": 5,
   "id": "2a28f70d",
   "metadata": {},
   "outputs": [],
   "source": [
    "cmd = f'''\n",
    "dimension 3\n",
    "units metal\n",
    "atom_style atomic\n",
    "boundary p p p\n",
    "box tilt large\n",
    "\n",
    "read_data structures/Ti_Initial.txt\n",
    "\n",
    "pair_style meam\n",
    "pair_coeff * * potentials/libraryNiTi.meam Ni Ti potentials/NiTi.meam Ti\n",
    "\n",
    "#pair_style eam/alloy\n",
    "#pair_coeff * * Mendelev-M-I-Underwood-T-L-Ackland-G-J--Ti-1 Ti#Farkas_Nb-Ti-Al_1996.eam.alloy Ti\n",
    "\n",
    "write_data original\n",
    "\n",
    "timestep 0.001\n",
    "\n",
    "fix ensemble all npt temp {t_start} {t_end} 0.1 x 10.0 10.0 1.0 y 10.0 10.0 1.0 z 10.0 10.0 1.0 xy 0.0 0.0 1.0 xz 0.0 0.0 1.0 yz 0.0 0.0 1.0\n",
    "\n",
    "velocity all create 1 589500 dist gaussian\n",
    "\n",
    "dump 1 all custom 200 output/dump_{element}.out id type xsu ysu zsu fx fy fz vx vy vz\n",
    "dump_modify 1 sort id format line \"%d %d %20.15g %20.15g %20.15g %20.15g %20.15g %20.15g %20.15g %20.15g %20.15g\"\n",
    "thermo_style custom step temp pe etotal vol\n",
    "# thermo_style custom step temp pe etotal pxx pxy pxz pyy pyz pzz vol\n",
    "thermo_modify format float %20.15g\n",
    "thermo 200\n",
    "\n",
    "variable t equal step\n",
    "variable m equal temp\n",
    "fix thermo all print 200 '$t $m' file output/thermo_output_{element}.dat screen no\n",
    "\n",
    "run 10000 \n",
    "\n",
    "\n",
    "fix ensemble all npt temp {t_end} {t_start} 0.1 x 10.0 10.0 1.0 y 10.0 10.0 1.0 z 10.0 10.0 1.0 xy 0.0 0.0 1.0 xz 0.0 0.0 1.0 yz 0.0 0.0 1.0\n",
    "\n",
    "run 20000\n",
    "\n",
    "\n",
    "'''"
   ]
  },
  {
   "cell_type": "markdown",
   "id": "fd677dd6",
   "metadata": {
    "heading_collapsed": true
   },
   "source": [
    "#### Option 2"
   ]
  },
  {
   "cell_type": "code",
   "execution_count": 5,
   "id": "7a7c53a9",
   "metadata": {
    "hidden": true
   },
   "outputs": [],
   "source": [
    "cmd = f'''\n",
    "dimension 3\n",
    "units metal\n",
    "atom_style atomic\n",
    "boundary p p p\n",
    "box tilt large\n",
    "\n",
    "read_data structures/crystalline_bcc.inp#Ti_Initial.txt\n",
    "\n",
    "pair_style eam/alloy\n",
    "pair_coeff * * potentials/Farkas_Nb-Ti-Al_1996.eam.alloy Ti\n",
    "\n",
    "timestep {timestep}\n",
    "\n",
    "thermo {thermo}\n",
    "\n",
    "thermo_style custom step temp vol press ke pe density \n",
    "\n",
    "variable s equal step\n",
    "variable t equal temp\n",
    "variable v equal vol\n",
    "variable p equal press\n",
    "variable k equal ke\n",
    "variable P equal pe\n",
    "variable d equal density\n",
    "variable e equal etotal\n",
    "\n",
    "\n",
    "fix thermo all print 200 '$s $t $v $p $k $P $d $e' file output/thermo_output_{element}.dat screen no\n",
    "\n",
    "velocity all create 1 589500 mom yes rot yes dist gaussian\n",
    "\n",
    "dump 1 all custom 200 output/dump_{element}.out id type xs ys zs\n",
    "\n",
    "fix 2 all nvt temp {t_end} {t_start} 0.1\n",
    "\n",
    "run 20000 #{steps}\n",
    "\n",
    "\n",
    "#unfix 2\n",
    "\n",
    "#fix 2 all nvt temp {t_end} {t_start} 0.1\n",
    "\n",
    "#run 30000\n",
    "\n",
    "'''"
   ]
  },
  {
   "cell_type": "markdown",
   "id": "299bf6d6",
   "metadata": {},
   "source": [
    "## Run and Animate"
   ]
  },
  {
   "cell_type": "code",
   "execution_count": 6,
   "id": "c5295ba0",
   "metadata": {},
   "outputs": [
    {
     "name": "stdout",
     "output_type": "stream",
     "text": [
      "Elapsed time: 902.007443 seconds\n"
     ]
    }
   ],
   "source": [
    "start_time = time.time()\n",
    "\n",
    "#Run the simulation\n",
    "lmp.commands_string(cmd)\n",
    "\n",
    "end_time = time.time()\n",
    "elapsed_time = end_time - start_time\n",
    "print(f\"Elapsed time: {elapsed_time:.6f} seconds\")"
   ]
  },
  {
   "cell_type": "code",
   "execution_count": null,
   "id": "3c778866",
   "metadata": {},
   "outputs": [],
   "source": [
    "name_dump = 'Phasetransformation_fast'\n",
    "name_thermo = 'Phasetransformation_fast'\n",
    "os.rename(f'output/dump_{element}.out',f'output/dump_{element}_{name_dump}.out')\n",
    "os.rename(f'output/thermo_output_{element}.dat',f'output/thermo_output_{element}_{name_thermo}.dat')"
   ]
  },
  {
   "cell_type": "code",
   "execution_count": 7,
   "id": "d592dcaa",
   "metadata": {
    "scrolled": false
   },
   "outputs": [
    {
     "name": "stdout",
     "output_type": "stream",
     "text": [
      "Number of FCC atoms: 972\n"
     ]
    },
    {
     "data": {
      "application/vnd.jupyter.widget-view+json": {
       "model_id": "e0a8163f6e0845ce9638a2438eeef4bc",
       "version_major": 2,
       "version_minor": 0
      },
      "text/plain": [
       "AppLayout(children=(HTML(value='<h2>Animation of Results</h2>', layout=Layout(grid_area='header', height='5px'…"
      ]
     },
     "metadata": {},
     "output_type": "display_data"
    }
   ],
   "source": [
    "animate(f'dump_{element}_{name_dump}.out',f'thermo_output_{element}_{name_thermo}.dat')"
   ]
  }
 ],
 "metadata": {
  "kernelspec": {
   "display_name": "Python 3 (ipykernel)",
   "language": "python",
   "name": "python3"
  },
  "language_info": {
   "codemirror_mode": {
    "name": "ipython",
    "version": 3
   },
   "file_extension": ".py",
   "mimetype": "text/x-python",
   "name": "python",
   "nbconvert_exporter": "python",
   "pygments_lexer": "ipython3",
   "version": "3.10.11"
  }
 },
 "nbformat": 4,
 "nbformat_minor": 5
}
